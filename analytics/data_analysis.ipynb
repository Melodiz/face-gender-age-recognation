{
 "cells": [
  {
   "cell_type": "code",
   "execution_count": null,
   "metadata": {},
   "outputs": [],
   "source": [
    "import pandas as pd\n",
    "import numpy as np\n",
    "import seaborn as sns\n",
    "import matplotlib.pyplot as plt\n",
    "import scipy.io\n",
    "from data_loader import *\n",
    "import plotly.express as px"
   ]
  },
  {
   "cell_type": "code",
   "execution_count": null,
   "metadata": {},
   "outputs": [],
   "source": [
    "BASE = '../data'\n",
    "utk = load_UTKFace_data(BASE+'/UTKFace')\n",
    "utk['type'] = ['UTKFace']*len(utk)\n",
    "\n",
    "agedb = load_AgeDB_data(BASE+'/AgeDB')\n",
    "agedb['type'] = ['AgeDB']*len(agedb)\n",
    "\n",
    "wiki = load_and_convert_WIKI_data(BASE+'/WIKI')\n",
    "wiki['type'] = ['WIKI']*len(wiki)\n",
    "\n",
    "imdb = load_and_convert_IMDB_data(BASE+'/IMDB')\n",
    "imdb['type'] = ['IMDB']*len(imdb)\n",
    "\n",
    "df = pd.concat([utk, agedb, wiki, imdb], ignore_index=True)\n",
    "del utk, agedb, wiki, imdb\n",
    "\n",
    "df = df[~df['age'].isna()]\n",
    "df = df[df['age'] >= 0]\n",
    "df = df[df['age'] <= 100]"
   ]
  },
  {
   "cell_type": "code",
   "execution_count": null,
   "metadata": {},
   "outputs": [],
   "source": [
    "IMDB_dict_age = df[df['type'] == 'IMDB']['age'].value_counts(normalize=True).to_dict()\n",
    "UTK_dict_age = df[df['type'] == 'UTKFace']['age'].value_counts(normalize=True).to_dict()\n",
    "AgeDB_dict_age = df[df['type'] == 'AgeDB']['age'].value_counts(normalize=True).to_dict()\n",
    "WIKI_dict_age = df[df['type'] == 'WIKI']['age'].value_counts(normalize=True).to_dict()\n",
    "combined_distribution = df['age'].value_counts(normalize=True).to_dict()\n",
    "\n",
    "# Create a dataframe where each row is age and columns are dataset names\n",
    "age_dist_df = pd.DataFrame({\n",
    "    'UTKFace': UTK_dict_age,\n",
    "    'AgeDB': AgeDB_dict_age,\n",
    "    'WIKI': WIKI_dict_age,\n",
    "    'IMDB': IMDB_dict_age,\n",
    "    'Overall': combined_distribution\n",
    "}).fillna(0).sort_index()"
   ]
  },
  {
   "cell_type": "code",
   "execution_count": null,
   "metadata": {},
   "outputs": [],
   "source": [
    "# Plot the line graph for age distribution\n",
    "plt.figure(figsize=(10, 6))\n",
    "for column in age_dist_df.columns:\n",
    "    if column == 'Overall':\n",
    "        plt.plot(age_dist_df.index, age_dist_df[column], label=column, linestyle='--', color='black', linewidth=4)\n",
    "    else:\n",
    "        plt.plot(age_dist_df.index, age_dist_df[column], label=column)\n",
    "\n",
    "# Add title and labels\n",
    "plt.title('Age Distribution Across Datasets')\n",
    "plt.xlabel('Age')\n",
    "plt.ylabel('Distribution')\n",
    "\n",
    "# Add legend\n",
    "plt.legend()\n",
    "\n",
    "# Show plot\n",
    "plt.show()"
   ]
  },
  {
   "cell_type": "code",
   "execution_count": null,
   "metadata": {},
   "outputs": [],
   "source": [
    "# Density Plot\n",
    "plt.figure(figsize=(10, 6))\n",
    "for column in age_dist_df.columns:\n",
    "    sns.kdeplot(df[df['type'] == column]['age'], label=column, fill=True)\n",
    "# Add the overall line\n",
    "sns.kdeplot(df['age'], label='Overall', linestyle='--', color='black', linewidth=2, fill=False)\n",
    "plt.title('Age Distribution Across Datasets - Density Plot')\n",
    "plt.xlabel('Age')\n",
    "plt.ylabel('Density')\n",
    "plt.legend()\n",
    "plt.show()\n"
   ]
  },
  {
   "cell_type": "code",
   "execution_count": null,
   "metadata": {},
   "outputs": [],
   "source": [
    "# plot the gender distribution \n",
    "utk_gender = df[df['type'] == 'UTKFace']['gender'].value_counts(normalize=True).to_dict()\n",
    "agedb_gender = df[df['type'] == 'AgeDB']['gender'].value_counts(normalize=True).to_dict()\n",
    "wiki_gender = df[df['type'] == 'WIKI']['gender'].value_counts(normalize=True).to_dict()\n",
    "imdb_gender = df[df['type'] == 'IMDB']['gender'].value_counts(normalize=True).to_dict()\n",
    "overall_gender = df['gender'].value_counts(normalize=True).to_dict()\n",
    "\n",
    "gender_dist_df = pd.DataFrame({\n",
    "    'UTKFace': utk_gender,\n",
    "    'AgeDB': agedb_gender,\n",
    "    'WIKI': wiki_gender,\n",
    "    'IMDB': imdb_gender,\n",
    "    'Overall': overall_gender\n",
    "}).fillna(0)\n",
    "gender_dist_df.rename(index={0:'male', 1:'female'}, inplace=True)"
   ]
  },
  {
   "cell_type": "code",
   "execution_count": null,
   "metadata": {},
   "outputs": [],
   "source": [
    "# plot the bar graph for gender distribution\n",
    "gender_dist_df.plot.bar(stacked=False, figsize=(11, 6))\n",
    "plt.title('Gender Distribution Across Datasets')\n",
    "plt.xlabel('Gender')\n",
    "plt.ylabel('Distribution')\n",
    "plt.legend(loc='upper left')\n",
    "plt.xticks(rotation=0)\n",
    "plt.show()"
   ]
  }
 ],
 "metadata": {
  "kernelspec": {
   "display_name": "env",
   "language": "python",
   "name": "python3"
  },
  "language_info": {
   "codemirror_mode": {
    "name": "ipython",
    "version": 3
   },
   "file_extension": ".py",
   "mimetype": "text/x-python",
   "name": "python",
   "nbconvert_exporter": "python",
   "pygments_lexer": "ipython3",
   "version": "3.12.5"
  }
 },
 "nbformat": 4,
 "nbformat_minor": 2
}
